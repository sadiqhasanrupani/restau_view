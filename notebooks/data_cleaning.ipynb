{
 "cells": [
  {
   "cell_type": "code",
   "execution_count": 67,
   "id": "fbe8c7f3",
   "metadata": {},
   "outputs": [],
   "source": [
    "import sys\n",
    "sys.path.append(\"../src/data\")"
   ]
  },
  {
   "cell_type": "code",
   "execution_count": 68,
   "id": "2751dbe5",
   "metadata": {},
   "outputs": [
    {
     "name": "stdout",
     "output_type": "stream",
     "text": [
      "Requirement already satisfied: pandas in c:\\users\\sadiq\\appdata\\local\\packages\\pythonsoftwarefoundation.python.3.10_qbz5n2kfra8p0\\localcache\\local-packages\\python310\\site-packages (2.3.0)\n",
      "Requirement already satisfied: python-dateutil>=2.8.2 in c:\\users\\sadiq\\appdata\\local\\packages\\pythonsoftwarefoundation.python.3.10_qbz5n2kfra8p0\\localcache\\local-packages\\python310\\site-packages (from pandas) (2.9.0.post0)\n",
      "Requirement already satisfied: numpy>=1.22.4 in c:\\users\\sadiq\\appdata\\local\\packages\\pythonsoftwarefoundation.python.3.10_qbz5n2kfra8p0\\localcache\\local-packages\\python310\\site-packages (from pandas) (2.2.6)\n",
      "Requirement already satisfied: pytz>=2020.1 in c:\\users\\sadiq\\appdata\\local\\packages\\pythonsoftwarefoundation.python.3.10_qbz5n2kfra8p0\\localcache\\local-packages\\python310\\site-packages (from pandas) (2025.2)\n",
      "Requirement already satisfied: tzdata>=2022.7 in c:\\users\\sadiq\\appdata\\local\\packages\\pythonsoftwarefoundation.python.3.10_qbz5n2kfra8p0\\localcache\\local-packages\\python310\\site-packages (from pandas) (2025.2)\n",
      "Requirement already satisfied: six>=1.5 in c:\\users\\sadiq\\appdata\\local\\packages\\pythonsoftwarefoundation.python.3.10_qbz5n2kfra8p0\\localcache\\local-packages\\python310\\site-packages (from python-dateutil>=2.8.2->pandas) (1.17.0)\n",
      "Note: you may need to restart the kernel to use updated packages.\n"
     ]
    },
    {
     "name": "stderr",
     "output_type": "stream",
     "text": [
      "\n",
      "[notice] A new release of pip is available: 23.0.1 -> 25.1.1\n",
      "[notice] To update, run: C:\\Users\\sadiq\\AppData\\Local\\Microsoft\\WindowsApps\\PythonSoftwareFoundation.Python.3.10_qbz5n2kfra8p0\\python.exe -m pip install --upgrade pip\n"
     ]
    }
   ],
   "source": [
    "pip install pandas"
   ]
  },
  {
   "cell_type": "code",
   "execution_count": 69,
   "id": "3303a24e",
   "metadata": {},
   "outputs": [],
   "source": [
    "import pandas as pd"
   ]
  },
  {
   "cell_type": "code",
   "execution_count": 70,
   "id": "ce6b314e",
   "metadata": {},
   "outputs": [],
   "source": [
    "# Update the path to the correct location of your CSV file\n",
    "\n",
    "df_restaurants = pd.read_csv(\"../data/raw/zomato_restaurants.csv\")"
   ]
  },
  {
   "cell_type": "code",
   "execution_count": 71,
   "id": "17245e55",
   "metadata": {},
   "outputs": [
    {
     "data": {
      "text/html": [
       "<div>\n",
       "<style scoped>\n",
       "    .dataframe tbody tr th:only-of-type {\n",
       "        vertical-align: middle;\n",
       "    }\n",
       "\n",
       "    .dataframe tbody tr th {\n",
       "        vertical-align: top;\n",
       "    }\n",
       "\n",
       "    .dataframe thead th {\n",
       "        text-align: right;\n",
       "    }\n",
       "</style>\n",
       "<table border=\"1\" class=\"dataframe\">\n",
       "  <thead>\n",
       "    <tr style=\"text-align: right;\">\n",
       "      <th></th>\n",
       "      <th>name</th>\n",
       "      <th>url</th>\n",
       "      <th>cuisine</th>\n",
       "      <th>price_for_two</th>\n",
       "      <th>area</th>\n",
       "      <th>distance</th>\n",
       "    </tr>\n",
       "  </thead>\n",
       "  <tbody>\n",
       "    <tr>\n",
       "      <th>0</th>\n",
       "      <td>FML - Food Music Love</td>\n",
       "      <td>https://www.zomato.com/pune/fml-food-music-lov...</td>\n",
       "      <td>North Indian, Oriental, Pizza, Continental, Ke...</td>\n",
       "      <td>₹1,900 for two</td>\n",
       "      <td>Magarpatta, Pune</td>\n",
       "      <td>7.8 km</td>\n",
       "    </tr>\n",
       "    <tr>\n",
       "      <th>1</th>\n",
       "      <td>Plink</td>\n",
       "      <td>https://www.zomato.com/pune/plink-yerawada/info</td>\n",
       "      <td>Italian, Continental, Mughlai, Chinese, Salad,...</td>\n",
       "      <td>₹3,000 for two</td>\n",
       "      <td>Yerawada, Pune</td>\n",
       "      <td>5.7 km</td>\n",
       "    </tr>\n",
       "    <tr>\n",
       "      <th>2</th>\n",
       "      <td>Foo KOPA</td>\n",
       "      <td>https://www.zomato.com/pune/foo-kopa-mundhwa/info</td>\n",
       "      <td>Asian, Sushi, Chinese, Desserts, Beverages</td>\n",
       "      <td>₹2,000 for two</td>\n",
       "      <td>Mundhwa, Pune</td>\n",
       "      <td>5.7 km</td>\n",
       "    </tr>\n",
       "    <tr>\n",
       "      <th>3</th>\n",
       "      <td>2BHK Diner &amp; Key Club</td>\n",
       "      <td>https://www.zomato.com/pune/2bhk-diner-key-clu...</td>\n",
       "      <td>North Indian, Mediterranean, European, Finger ...</td>\n",
       "      <td>₹3,000 for two</td>\n",
       "      <td>Bund Garden Road, Pune</td>\n",
       "      <td>2 km</td>\n",
       "    </tr>\n",
       "    <tr>\n",
       "      <th>4</th>\n",
       "      <td>Fountain House</td>\n",
       "      <td>https://www.zomato.com/pune/fountain-house-2-s...</td>\n",
       "      <td>North Indian, Fast Food, Desserts, Beverages</td>\n",
       "      <td>₹950 for two</td>\n",
       "      <td>Shivaji Nagar, Pune</td>\n",
       "      <td>3 km</td>\n",
       "    </tr>\n",
       "  </tbody>\n",
       "</table>\n",
       "</div>"
      ],
      "text/plain": [
       "                    name                                                url  \\\n",
       "0  FML - Food Music Love  https://www.zomato.com/pune/fml-food-music-lov...   \n",
       "1                  Plink    https://www.zomato.com/pune/plink-yerawada/info   \n",
       "2               Foo KOPA  https://www.zomato.com/pune/foo-kopa-mundhwa/info   \n",
       "3  2BHK Diner & Key Club  https://www.zomato.com/pune/2bhk-diner-key-clu...   \n",
       "4         Fountain House  https://www.zomato.com/pune/fountain-house-2-s...   \n",
       "\n",
       "                                             cuisine   price_for_two  \\\n",
       "0  North Indian, Oriental, Pizza, Continental, Ke...  ₹1,900 for two   \n",
       "1  Italian, Continental, Mughlai, Chinese, Salad,...  ₹3,000 for two   \n",
       "2         Asian, Sushi, Chinese, Desserts, Beverages  ₹2,000 for two   \n",
       "3  North Indian, Mediterranean, European, Finger ...  ₹3,000 for two   \n",
       "4       North Indian, Fast Food, Desserts, Beverages    ₹950 for two   \n",
       "\n",
       "                     area distance  \n",
       "0        Magarpatta, Pune   7.8 km  \n",
       "1          Yerawada, Pune   5.7 km  \n",
       "2           Mundhwa, Pune   5.7 km  \n",
       "3  Bund Garden Road, Pune     2 km  \n",
       "4     Shivaji Nagar, Pune     3 km  "
      ]
     },
     "execution_count": 71,
     "metadata": {},
     "output_type": "execute_result"
    }
   ],
   "source": [
    "df_restaurants.head()"
   ]
  },
  {
   "cell_type": "code",
   "execution_count": 72,
   "id": "3306766a",
   "metadata": {},
   "outputs": [
    {
     "name": "stdout",
     "output_type": "stream",
     "text": [
      "<class 'pandas.core.frame.DataFrame'>\n",
      "RangeIndex: 501 entries, 0 to 500\n",
      "Data columns (total 6 columns):\n",
      " #   Column         Non-Null Count  Dtype \n",
      "---  ------         --------------  ----- \n",
      " 0   name           501 non-null    object\n",
      " 1   url            501 non-null    object\n",
      " 2   cuisine        501 non-null    object\n",
      " 3   price_for_two  501 non-null    object\n",
      " 4   area           501 non-null    object\n",
      " 5   distance       501 non-null    object\n",
      "dtypes: object(6)\n",
      "memory usage: 23.6+ KB\n"
     ]
    }
   ],
   "source": [
    "df_restaurants.info()"
   ]
  },
  {
   "cell_type": "code",
   "execution_count": 73,
   "id": "22ac6fe6",
   "metadata": {},
   "outputs": [],
   "source": [
    "if df_restaurants.isnull().values.any():\n",
    "  # clean the data by dropping rows with any null values\n",
    "  df_restaurants = df_restaurants.dropna()"
   ]
  },
  {
   "cell_type": "code",
   "execution_count": 74,
   "id": "629eb050",
   "metadata": {},
   "outputs": [
    {
     "data": {
      "text/html": [
       "<div>\n",
       "<style scoped>\n",
       "    .dataframe tbody tr th:only-of-type {\n",
       "        vertical-align: middle;\n",
       "    }\n",
       "\n",
       "    .dataframe tbody tr th {\n",
       "        vertical-align: top;\n",
       "    }\n",
       "\n",
       "    .dataframe thead th {\n",
       "        text-align: right;\n",
       "    }\n",
       "</style>\n",
       "<table border=\"1\" class=\"dataframe\">\n",
       "  <thead>\n",
       "    <tr style=\"text-align: right;\">\n",
       "      <th></th>\n",
       "      <th>name</th>\n",
       "      <th>url</th>\n",
       "      <th>cuisine</th>\n",
       "      <th>price_for_two</th>\n",
       "      <th>area</th>\n",
       "      <th>distance</th>\n",
       "    </tr>\n",
       "  </thead>\n",
       "  <tbody>\n",
       "    <tr>\n",
       "      <th>0</th>\n",
       "      <td>FML - Food Music Love</td>\n",
       "      <td>https://www.zomato.com/pune/fml-food-music-lov...</td>\n",
       "      <td>North Indian, Oriental, Pizza, Continental, Ke...</td>\n",
       "      <td>₹1,900 for two</td>\n",
       "      <td>Magarpatta, Pune</td>\n",
       "      <td>7.8 km</td>\n",
       "    </tr>\n",
       "    <tr>\n",
       "      <th>1</th>\n",
       "      <td>Plink</td>\n",
       "      <td>https://www.zomato.com/pune/plink-yerawada/info</td>\n",
       "      <td>Italian, Continental, Mughlai, Chinese, Salad,...</td>\n",
       "      <td>₹3,000 for two</td>\n",
       "      <td>Yerawada, Pune</td>\n",
       "      <td>5.7 km</td>\n",
       "    </tr>\n",
       "    <tr>\n",
       "      <th>2</th>\n",
       "      <td>Foo KOPA</td>\n",
       "      <td>https://www.zomato.com/pune/foo-kopa-mundhwa/info</td>\n",
       "      <td>Asian, Sushi, Chinese, Desserts, Beverages</td>\n",
       "      <td>₹2,000 for two</td>\n",
       "      <td>Mundhwa, Pune</td>\n",
       "      <td>5.7 km</td>\n",
       "    </tr>\n",
       "    <tr>\n",
       "      <th>3</th>\n",
       "      <td>2BHK Diner &amp; Key Club</td>\n",
       "      <td>https://www.zomato.com/pune/2bhk-diner-key-clu...</td>\n",
       "      <td>North Indian, Mediterranean, European, Finger ...</td>\n",
       "      <td>₹3,000 for two</td>\n",
       "      <td>Bund Garden Road, Pune</td>\n",
       "      <td>2 km</td>\n",
       "    </tr>\n",
       "    <tr>\n",
       "      <th>4</th>\n",
       "      <td>Fountain House</td>\n",
       "      <td>https://www.zomato.com/pune/fountain-house-2-s...</td>\n",
       "      <td>North Indian, Fast Food, Desserts, Beverages</td>\n",
       "      <td>₹950 for two</td>\n",
       "      <td>Shivaji Nagar, Pune</td>\n",
       "      <td>3 km</td>\n",
       "    </tr>\n",
       "  </tbody>\n",
       "</table>\n",
       "</div>"
      ],
      "text/plain": [
       "                    name                                                url  \\\n",
       "0  FML - Food Music Love  https://www.zomato.com/pune/fml-food-music-lov...   \n",
       "1                  Plink    https://www.zomato.com/pune/plink-yerawada/info   \n",
       "2               Foo KOPA  https://www.zomato.com/pune/foo-kopa-mundhwa/info   \n",
       "3  2BHK Diner & Key Club  https://www.zomato.com/pune/2bhk-diner-key-clu...   \n",
       "4         Fountain House  https://www.zomato.com/pune/fountain-house-2-s...   \n",
       "\n",
       "                                             cuisine   price_for_two  \\\n",
       "0  North Indian, Oriental, Pizza, Continental, Ke...  ₹1,900 for two   \n",
       "1  Italian, Continental, Mughlai, Chinese, Salad,...  ₹3,000 for two   \n",
       "2         Asian, Sushi, Chinese, Desserts, Beverages  ₹2,000 for two   \n",
       "3  North Indian, Mediterranean, European, Finger ...  ₹3,000 for two   \n",
       "4       North Indian, Fast Food, Desserts, Beverages    ₹950 for two   \n",
       "\n",
       "                     area distance  \n",
       "0        Magarpatta, Pune   7.8 km  \n",
       "1          Yerawada, Pune   5.7 km  \n",
       "2           Mundhwa, Pune   5.7 km  \n",
       "3  Bund Garden Road, Pune     2 km  \n",
       "4     Shivaji Nagar, Pune     3 km  "
      ]
     },
     "execution_count": 74,
     "metadata": {},
     "output_type": "execute_result"
    }
   ],
   "source": [
    "df_restaurants.head()"
   ]
  },
  {
   "cell_type": "code",
   "execution_count": 75,
   "id": "6dbbcca3",
   "metadata": {},
   "outputs": [
    {
     "data": {
      "text/plain": [
       "'https://www.zomato.com/pune/fml-food-music-love-magarpatta/info'"
      ]
     },
     "execution_count": 75,
     "metadata": {},
     "output_type": "execute_result"
    }
   ],
   "source": [
    "df_restaurants['url'][0]"
   ]
  },
  {
   "cell_type": "code",
   "execution_count": 76,
   "id": "59f0f9a8",
   "metadata": {},
   "outputs": [
    {
     "data": {
      "text/html": [
       "<div>\n",
       "<style scoped>\n",
       "    .dataframe tbody tr th:only-of-type {\n",
       "        vertical-align: middle;\n",
       "    }\n",
       "\n",
       "    .dataframe tbody tr th {\n",
       "        vertical-align: top;\n",
       "    }\n",
       "\n",
       "    .dataframe thead th {\n",
       "        text-align: right;\n",
       "    }\n",
       "</style>\n",
       "<table border=\"1\" class=\"dataframe\">\n",
       "  <thead>\n",
       "    <tr style=\"text-align: right;\">\n",
       "      <th></th>\n",
       "      <th>restaurant_name</th>\n",
       "      <th>reviewer</th>\n",
       "      <th>rating</th>\n",
       "      <th>rating_type</th>\n",
       "      <th>review_text</th>\n",
       "      <th>date</th>\n",
       "      <th>extraction_method</th>\n",
       "      <th>driver_status</th>\n",
       "    </tr>\n",
       "  </thead>\n",
       "  <tbody>\n",
       "    <tr>\n",
       "      <th>0</th>\n",
       "      <td>Feast - Sheraton Grand</td>\n",
       "      <td>Adhisa Ghosh</td>\n",
       "      <td>5</td>\n",
       "      <td>DINING</td>\n",
       "      <td>Great food and ambience. Really good quality a...</td>\n",
       "      <td>NaN</td>\n",
       "      <td>div[class*=\"fKvqMN\"] (no rating found) + json-...</td>\n",
       "      <td>closed</td>\n",
       "    </tr>\n",
       "    <tr>\n",
       "      <th>1</th>\n",
       "      <td>Feast - Sheraton Grand</td>\n",
       "      <td>Darshil</td>\n",
       "      <td>5</td>\n",
       "      <td>DINING</td>\n",
       "      <td>One of the best Brunch spread in the town .Mus...</td>\n",
       "      <td>NaN</td>\n",
       "      <td>div[class*=\"fKvqMN\"] (no rating found) + json-...</td>\n",
       "      <td>closed</td>\n",
       "    </tr>\n",
       "    <tr>\n",
       "      <th>2</th>\n",
       "      <td>Feast - Sheraton Grand</td>\n",
       "      <td>Dipali</td>\n",
       "      <td>4</td>\n",
       "      <td>DINING</td>\n",
       "      <td>This place never disappoints.&lt;br/&gt;The spread w...</td>\n",
       "      <td>NaN</td>\n",
       "      <td>div[class*=\"fKvqMN\"] (no rating found) + json-...</td>\n",
       "      <td>closed</td>\n",
       "    </tr>\n",
       "    <tr>\n",
       "      <th>3</th>\n",
       "      <td>Feast - Sheraton Grand</td>\n",
       "      <td>Pallavi Mishra</td>\n",
       "      <td>1</td>\n",
       "      <td>DINING</td>\n",
       "      <td>Visited this restaurant with my family, and un...</td>\n",
       "      <td>NaN</td>\n",
       "      <td>div[class*=\"fKvqMN\"] (no rating found) + json-...</td>\n",
       "      <td>closed</td>\n",
       "    </tr>\n",
       "    <tr>\n",
       "      <th>4</th>\n",
       "      <td>Feast - Sheraton Grand</td>\n",
       "      <td>Krishnapriya  K</td>\n",
       "      <td>5</td>\n",
       "      <td>DINING</td>\n",
       "      <td>Feast at Sheraton Grand definitely serves one ...</td>\n",
       "      <td>NaN</td>\n",
       "      <td>div[class*=\"fKvqMN\"] (no rating found) + json-...</td>\n",
       "      <td>closed</td>\n",
       "    </tr>\n",
       "  </tbody>\n",
       "</table>\n",
       "</div>"
      ],
      "text/plain": [
       "          restaurant_name         reviewer  rating rating_type  \\\n",
       "0  Feast - Sheraton Grand     Adhisa Ghosh       5      DINING   \n",
       "1  Feast - Sheraton Grand          Darshil       5      DINING   \n",
       "2  Feast - Sheraton Grand           Dipali       4      DINING   \n",
       "3  Feast - Sheraton Grand   Pallavi Mishra       1      DINING   \n",
       "4  Feast - Sheraton Grand  Krishnapriya  K       5      DINING   \n",
       "\n",
       "                                         review_text  date  \\\n",
       "0  Great food and ambience. Really good quality a...   NaN   \n",
       "1  One of the best Brunch spread in the town .Mus...   NaN   \n",
       "2  This place never disappoints.<br/>The spread w...   NaN   \n",
       "3  Visited this restaurant with my family, and un...   NaN   \n",
       "4  Feast at Sheraton Grand definitely serves one ...   NaN   \n",
       "\n",
       "                                   extraction_method driver_status  \n",
       "0  div[class*=\"fKvqMN\"] (no rating found) + json-...        closed  \n",
       "1  div[class*=\"fKvqMN\"] (no rating found) + json-...        closed  \n",
       "2  div[class*=\"fKvqMN\"] (no rating found) + json-...        closed  \n",
       "3  div[class*=\"fKvqMN\"] (no rating found) + json-...        closed  \n",
       "4  div[class*=\"fKvqMN\"] (no rating found) + json-...        closed  "
      ]
     },
     "execution_count": 76,
     "metadata": {},
     "output_type": "execute_result"
    }
   ],
   "source": [
    "df_rest_review = pd.read_csv(\"../data/raw/zomato_reviews.csv\")\n",
    "\n",
    "df_rest_review"
   ]
  },
  {
   "cell_type": "code",
   "execution_count": 77,
   "id": "54b165a1",
   "metadata": {},
   "outputs": [
    {
     "name": "stdout",
     "output_type": "stream",
     "text": [
      "<class 'pandas.core.frame.DataFrame'>\n",
      "RangeIndex: 5 entries, 0 to 4\n",
      "Data columns (total 8 columns):\n",
      " #   Column             Non-Null Count  Dtype  \n",
      "---  ------             --------------  -----  \n",
      " 0   restaurant_name    5 non-null      object \n",
      " 1   reviewer           5 non-null      object \n",
      " 2   rating             5 non-null      int64  \n",
      " 3   rating_type        5 non-null      object \n",
      " 4   review_text        5 non-null      object \n",
      " 5   date               0 non-null      float64\n",
      " 6   extraction_method  5 non-null      object \n",
      " 7   driver_status      5 non-null      object \n",
      "dtypes: float64(1), int64(1), object(6)\n",
      "memory usage: 448.0+ bytes\n"
     ]
    }
   ],
   "source": [
    "\n",
    "df_rest_review.info()"
   ]
  }
 ],
 "metadata": {
  "kernelspec": {
   "display_name": "Python 3",
   "language": "python",
   "name": "python3"
  },
  "language_info": {
   "codemirror_mode": {
    "name": "ipython",
    "version": 3
   },
   "file_extension": ".py",
   "mimetype": "text/x-python",
   "name": "python",
   "nbconvert_exporter": "python",
   "pygments_lexer": "ipython3",
   "version": "3.10.11"
  }
 },
 "nbformat": 4,
 "nbformat_minor": 5
}
